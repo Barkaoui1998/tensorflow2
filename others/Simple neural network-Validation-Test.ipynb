{
 "cells": [
  {
   "cell_type": "markdown",
   "metadata": {},
   "source": [
    "## Import"
   ]
  },
  {
   "cell_type": "code",
   "execution_count": 1,
   "metadata": {},
   "outputs": [
    {
     "name": "stdout",
     "output_type": "stream",
     "text": [
      "Limited tf.compat.v2.summary API due to missing TensorBoard installation\n",
      "Limited tf.summary API due to missing TensorBoard installation\n"
     ]
    }
   ],
   "source": [
    "# Matplotlib\n",
    "import matplotlib.pyplot as plt\n",
    "# Tensorflow\n",
    "import tensorflow as tf\n",
    "# Numpy and Pandas\n",
    "import numpy as np\n",
    "import pandas as pd\n",
    "# Ohter import\n",
    "import sys\n",
    "\n",
    "\n",
    "from sklearn.preprocessing import StandardScaler\n"
   ]
  },
  {
   "cell_type": "markdown",
   "metadata": {},
   "source": [
    "## Be sure to used Tensorflow 2.0"
   ]
  },
  {
   "cell_type": "code",
   "execution_count": 2,
   "metadata": {},
   "outputs": [],
   "source": [
    "assert hasattr(tf, \"function\") # Be sure to use tensorflow 2.0"
   ]
  },
  {
   "cell_type": "markdown",
   "metadata": {},
   "source": [
    "## Load the dataset: Fashion MNIST"
   ]
  },
  {
   "cell_type": "markdown",
   "metadata": {},
   "source": [
    "![](https://storage.googleapis.com/kaggle-datasets-images/2243/3791/9384af51de8baa77f6320901f53bd26b/dataset-cover.png)"
   ]
  },
  {
   "cell_type": "code",
   "execution_count": 3,
   "metadata": {},
   "outputs": [
    {
     "name": "stdout",
     "output_type": "stream",
     "text": [
      "(8000, 784) (8000,)\n",
      "(2000, 784) (2000,)\n"
     ]
    }
   ],
   "source": [
    "from sklearn.model_selection import train_test_split\n",
    "\n",
    "# Fashio MNIST\n",
    "fashion_mnist = tf.keras.datasets.fashion_mnist\n",
    "(images, targets), (_, _) = fashion_mnist.load_data()\n",
    "# Get only a subpart of the dataset\n",
    "# Get only a subpart\n",
    "images = images[:10000]\n",
    "targets = targets [:10000]\n",
    "\n",
    "images = images.reshape(-1, 784)\n",
    "images = images.astype(float)\n",
    "scaler = StandardScaler()\n",
    "images = scaler.fit_transform(images)\n",
    "\n",
    "images_train, images_test, targets_train, targets_test = train_test_split(images, targets, test_size=0.2, random_state=1)\n",
    "\n",
    "print(images_train.shape, targets_train.shape)\n",
    "print(images_test.shape, targets_test.shape)"
   ]
  },
  {
   "cell_type": "markdown",
   "metadata": {},
   "source": [
    "## Plot one of the data"
   ]
  },
  {
   "cell_type": "code",
   "execution_count": 4,
   "metadata": {},
   "outputs": [
    {
     "data": {
      "image/png": "[encoded data removed]",
      "text/plain": [
       "<Figure size 432x288 with 1 Axes>"
      ]
     },
     "metadata": {
      "needs_background": "light"
     },
     "output_type": "display_data"
    }
   ],
   "source": [
    "targets_names = [\"T-shirt/top\", \"Trouser\", \"Pullover\", \"Dress\", \"Coat\", \"Sandal\", \n",
    "                 \"Shirt\", \"Sneaker\", \"Bag\", \"Ankle boot\"\n",
    "]\n",
    "# Plot one image\n",
    "plt.imshow(images[10].reshape(28, 28), cmap=\"binary\")\n",
    "#plt.title(targets_names[targets[10]])\n",
    "plt.title(targets_names[targets[10]])\n",
    "plt.show()"
   ]
  },
  {
   "cell_type": "code",
   "execution_count": 5,
   "metadata": {},
   "outputs": [
    {
     "name": "stdout",
     "output_type": "stream",
     "text": [
      "First line of one image [-0.01426971 -0.02645579 -0.029489   -0.04635542 -0.06156617 -0.07641125\n",
      " -0.10509579 -0.16410192 -0.23986957 -0.36929666 -0.57063232 -0.6909092\n",
      " -0.7582382  -0.74450346 -0.17093142  0.80572169  0.60465021  0.69474334\n",
      "  0.01007169 -0.32085836 -0.20882718 -0.14379861 -0.11434416 -0.09302065\n",
      "  0.08584529 -0.04969764 -0.03368099 -0.01591863 -0.0181322  -0.02297209\n",
      " -0.03365679 -0.05814043 -0.08287213 -0.13053264 -0.2464668  -0.35905423\n",
      " -0.48335079 -0.63909239 -0.83575443 -0.98917162 -1.08347998 -1.07712864\n",
      "  0.7931674   1.2496451   1.35025207  1.68512162  1.97595936  1.43181167\n",
      "  2.97956664  4.68907298  4.88750284  0.23595608 -0.11565956  0.14562865\n",
      " -0.06100298 -0.03312088 -0.01964757 -0.02793878 -0.0481181  -0.07617253\n",
      " -0.12670992 -0.26684818 -0.39945708 -0.49720396 -0.62326614 -0.8195795\n",
      " -0.99379417 -1.04759214 -1.10371252 -1.10221791  1.08283564  1.22639277\n",
      "  1.35310524  1.34234162  1.66433217  2.15862735  2.75297169  3.22113197\n",
      "  4.62472272  3.87445967 -0.16599094  0.32418594 -0.087733   -0.0526323\n",
      " -0.02862848 -0.04242726 -0.06957184 -0.10501986 -0.21177968 -0.36570732\n",
      " -0.50377706 -0.63129117 -0.7545061  -0.92782181 -1.04671762 -1.04884575\n",
      " -1.10753111 -1.03315535  1.43294532  1.33033833  1.39162212  1.50249446\n",
      "  1.41472555  1.48664927  2.19750146  2.5207204   3.23681206  0.32439317\n",
      " -0.22921786  0.08719395 -0.11524194 -0.06595022 -0.03978101 -0.06151816\n",
      " -0.09394236 -0.14485093 -0.28258668 -0.45013464 -0.60762152 -0.70866125\n",
      " -0.80845132 -0.97106764 -1.06309306 -1.04395211 -1.11950469 -0.35989804\n",
      "  1.56262616  1.30932327  1.41614857  1.49002634  1.44030778  1.4974615\n",
      "  2.02811047  2.22341936  2.1189369   0.28273308  0.22687411 -0.22359138\n",
      " -0.07278968 -0.09631577 -0.05785819 -0.08665899 -0.12303533 -0.19276323\n",
      " -0.34094366 -0.53007774 -0.6636926  -0.76166986 -0.85810993 -1.01973474\n",
      " -1.10359032 -1.13389127 -1.13797187  0.19728184  1.30491585  1.12589712\n",
      "  1.56101992  1.5471799   1.35519155  1.61848413  1.8686844   1.86320923\n",
      "  0.84284685  1.09578392  0.74105846 -0.28563328 -0.1131897  -0.11759717\n",
      " -0.07138681 -0.10484842 -0.15218768 -0.23983624 -0.39446008 -0.58540856\n",
      " -0.70817066 -0.80613957 -0.8912735  -1.04743568 -1.11648233 -1.16203361\n",
      " -1.16480491  0.86892733  1.27412159  0.8998086   0.74428789  1.13274167\n",
      "  1.14002008  1.64475384  1.22579108  1.87626568  0.72713619 -0.21425058\n",
      " -0.44976207 -0.3588039  -0.26052139 -0.14642704 -0.09057754 -0.12852483\n",
      " -0.17658578 -0.27962415 -0.43604854 -0.62328729 -0.74417079 -0.83698675\n",
      " -0.91538507 -1.05836072 -1.09984451 -1.18744141 -1.19142578  1.24141786\n",
      "  1.39079751  1.49192297  1.27955426  1.30948745  1.17061076  0.86607308\n",
      "  1.27421913  0.79750725 -0.86719519 -0.69061632 -0.50423389 -0.42229875\n",
      " -0.30440602 -0.16353165 -0.09817535 -0.14372941 -0.20517067 -0.30866173\n",
      " -0.4655249  -0.65221334 -0.76683863 -0.85659993 -0.93256978 -1.06226401\n",
      " -1.15171237 -1.21294298 -0.55403601  1.46120819  0.97836915  1.05122066\n",
      "  1.2521523   1.05790293  1.35951983  0.90500191  1.55701257  0.82622186\n",
      " -0.93881345 -0.7662494  -0.57465574 -0.48552019 -0.34738009 -0.18855983\n",
      " -0.10483514 -0.16127624 -0.22554475 -0.32839989 -0.48754623 -0.66943952\n",
      " -0.77552861 -0.86498292 -0.94273549 -1.06015652 -1.18041842 -1.23791689\n",
      "  0.42552833  1.46179792  0.99490898  0.75506225  0.87837333  0.82699162\n",
      "  1.09938829  0.76830616  1.48553714 -0.13338616  0.50592885 -0.83182562\n",
      " -0.65812    -0.54406795 -0.39662058 -0.21430757 -0.11419072 -0.17789518\n",
      " -0.23568605 -0.33542269 -0.5026126  -0.67620553 -0.77596799 -0.86788207\n",
      " -0.94980187 -1.03197874 -1.22037631 -1.30832137  1.13203817  1.20044543\n",
      "  1.26727922  1.22318096  1.33469514  1.2591838   1.27789102  0.95415321\n",
      "  1.45083593 -1.14975179 -0.0817779   1.07590662 -0.71352465 -0.61851141\n",
      " -0.45102226 -0.23988228 -0.1324622  -0.1914184  -0.23850724 -0.33502594\n",
      " -0.50210849 -0.67112987 -0.76673944 -0.8616405  -0.96676107 -1.0848351\n",
      " -1.3330483  -0.93497502  1.45610367  1.06754889  1.26636853  1.12103986\n",
      "  0.83294083  1.32533583  0.96137914  0.8823002   1.43281281  1.19611371\n",
      " -0.78940528  1.86544193 -0.74636813 -0.65262812 -0.50618527 -0.26376513\n",
      " -0.14691646 -0.20208667 -0.24647794 -0.34047837 -0.50463299 -0.66562681\n",
      " -0.76193944 -0.87453007 -1.02396861 -1.2315534  -1.51364781 -0.22477969\n",
      "  1.36864633  0.97874683  1.13715509  1.05688341  0.99487436  1.40832046\n",
      "  0.59156431  0.94867054  1.34348434  1.46512153  0.55580094  1.79155088\n",
      "  1.05012863 -0.67067287 -0.54930031 -0.2968015  -0.15491047 -0.21450816\n",
      " -0.261535   -0.36080841 -0.53730463 -0.70325988 -0.81421065 -0.94111069\n",
      " -1.08418556 -1.34365865 -1.53886075  1.09326051  0.72413821  1.27757173\n",
      "  1.36520155  1.17770547  1.0023395   1.39555822  0.29493432  1.10901936\n",
      "  1.36430898  1.27440447  1.52040376  1.40357315  1.72718391  0.1853037\n",
      " -0.57266526 -0.33349732 -0.18106813 -0.27035229 -0.32539614 -0.42952929\n",
      " -0.61751986 -0.7906786  -0.89035399 -0.99618473 -1.1655271  -1.43209714\n",
      " -0.09950582  1.43909587  0.80004613  0.88559108  1.40804576  1.33663711\n",
      "  1.00766279  1.4018325   0.27208395  1.09470572  1.42729615  1.26618628\n",
      "  1.41174747  1.45821099  1.71015214  1.01925997  0.4601322  -0.36757044\n",
      " -0.24958781 -0.3531048  -0.40241884 -0.49907564 -0.69135965 -0.85359971\n",
      " -0.9331706  -1.0059672  -1.2177602  -1.54149264  1.06742005  1.19680318\n",
      "  1.16583857  1.04905231  0.80970041  1.20411735  1.24623527  0.93697892\n",
      "  0.42037146  1.01432568  1.45360261  1.25038614  1.51241082  1.47613898\n",
      "  0.92463771 -0.70060342 -0.62144365 -0.39567218 -0.31147884 -0.40192164\n",
      " -0.45021433 -0.54773943 -0.75003079 -0.889456   -0.98063839 -1.07747814\n",
      " -1.29340698 -0.73928768  1.42310729  1.18867558  1.29652988  1.37945647\n",
      "  1.18486113  0.53438163  0.56912652  1.05669556  0.45154219  0.81022867\n",
      "  1.44123053  1.22117476  1.51323768  1.10025946 -0.84443622 -0.71082151\n",
      " -0.62981211 -0.41576178 -0.33145798 -0.4375847  -0.49080625 -0.59254976\n",
      " -0.79668158 -0.93801891 -1.02130727 -1.11492415 -1.35022588  0.83375288\n",
      "  0.9741596   0.4062541   0.82345526  0.99971607  1.41325802  1.38631373\n",
      "  0.82115561  1.03621816  1.37633608  1.41019057  1.43307373  1.33830106\n",
      "  1.56303358  1.2326212  -0.83324214 -0.68996128 -0.60036851 -0.41411856\n",
      " -0.30332172 -0.43661943 -0.50963747 -0.61804526 -0.82143658 -0.95207361\n",
      " -1.007129   -1.12351256 -0.74667893  1.42122933  1.13385827  1.18497379\n",
      "  0.92903272  0.59292314  0.58084998  0.65192725  1.31203334  1.15530336\n",
      "  0.60156289  1.43433833  1.57231525  1.361918    1.57407123  1.10104004\n",
      " -0.82047003 -0.6717897  -0.59381484 -0.40266963 -0.27443878 -0.40163268\n",
      " -0.47645656 -0.57112574 -0.75359002 -0.90482991 -1.00654795 -1.10010001\n",
      "  0.84646653  1.33590939  1.12318718  1.05983988  1.30375784  1.41841835\n",
      "  1.3363515   0.78329442  0.72603604  1.06772811  1.03728983  0.94268209\n",
      "  1.58352665  1.40736874  1.56396874  0.96402622 -0.79100683 -0.64317699\n",
      " -0.55055123 -0.35674061 -0.26298786 -0.36483148 -0.35501478 -0.56550535\n",
      " -0.76427867 -0.88093481 -0.95714593  0.26300404  1.49151056  0.60123139\n",
      "  1.23314614  1.143365    1.10292773  1.21793326  1.30989735  1.11852481\n",
      "  1.34363077  1.37704795 -0.41238875  0.42876074  1.77110004  1.48771853\n",
      "  1.67709496  0.81572133 -0.7339355  -0.57912664 -0.47893486 -0.30785098\n",
      " -0.2529033  -0.35287467 -0.42241314 -0.53742101 -0.69523159 -0.48322565\n",
      "  0.57649233  1.85134507  0.9703557   0.90721107  0.53503501  1.08207286\n",
      "  1.22790733  1.24437467  1.30849615  1.11971627  1.34908479 -0.64304466\n",
      " -1.38817988  0.69940517  1.86107934  1.56810302  1.7514223   0.72922458\n",
      " -0.67125106 -0.50747585 -0.42746762 -0.27689345 -0.21764707 -0.31533525\n",
      "  1.09716701  3.09682197  2.34175977  2.00796236  1.85994557  1.78597139\n",
      "  1.49141381  0.76297629  1.11039359  0.69358239  1.21783558  1.32207011\n",
      "  1.30769119  1.4354789  -0.5426532  -1.36111624 -1.24797109  0.81824301\n",
      "  1.96644103  1.71151651  1.86841471  0.54069192 -0.61478549 -0.41894205\n",
      " -0.37391927 -0.23491109 -0.18236822  0.34035482  4.02444776  3.30920932\n",
      "  2.29452031  1.8472915   1.73635327  1.85955328  1.58154728  1.45891677\n",
      "  0.75783736  1.06110739  1.11682494  1.46006007  1.55251473  0.62714951\n",
      " -1.26069746 -1.21787971 -1.12506426  0.83640561  2.11376884  1.84866534\n",
      "  1.99153545  0.45817771 -0.55353411 -0.33494561 -0.31442902 -0.19052615\n",
      " -0.14160236  2.93079659  5.14991601  3.31015404  2.4402553   1.95391685\n",
      "  1.96093639  2.10885636  1.66470037  1.5670484   1.42605195  1.03439231\n",
      "  0.57767735  1.22668387  1.64488703 -1.0901502  -1.14072666 -1.04099027\n",
      " -1.03382637  0.81150532  2.25649299  2.09431908  2.11219737  0.25860424\n",
      " -0.50542985 -0.27819146 -0.26277875 -0.15540351 -0.09737914  0.22730653\n",
      "  4.98953189  4.07372805  2.88331858  2.24493644  2.21334692  2.30127177\n",
      "  1.80874389  1.60351937  1.52082639  1.52471192  1.38291296  1.67601794\n",
      " -0.24487056 -0.97710244 -1.02967184 -0.98082293 -0.93945674  0.89027942\n",
      "  2.46430504  2.25517974  2.33765721  0.20729654 -0.45056135 -0.14513081\n",
      " -0.21182513 -0.11366213 -0.05702124 -0.09821816 -0.1785151   0.31968873\n",
      "  1.37577775  1.90665939  2.4520196   2.67288921  2.2232822   1.87944656\n",
      "  1.67634924  1.53152839  1.4299862  -0.162791   -0.81210479 -0.85896501\n",
      " -0.91661542 -0.87628179 -0.83240929  0.60715159  2.67395709  2.65972227\n",
      "  2.0834714  -0.26792583 -0.40009454 -0.14170013 -0.15920537 -0.08310377\n",
      " -0.02780774 -0.0459571  -0.09752313 -0.20921424 -0.33708195 -0.41731463\n",
      " -0.42712608  0.50525833  1.05313252  1.08014246  0.48423045 -0.21840563\n",
      " -0.76160286 -0.69278859 -0.64574229 -0.68429498 -0.73804133 -0.66329112\n",
      " -0.60337338 -0.47578426  1.14396189  0.57528488  0.0308716  -0.39704551\n",
      " -0.28848398 -0.1579693  -0.0929556  -0.03456268]\n",
      "Associated target 9\n"
     ]
    }
   ],
   "source": [
    "#print(\"First line of one image\", images[11][0])\n",
    "print(\"First line of one image\", images[11])\n",
    "print(\"Associated target\", targets[11])"
   ]
  },
  {
   "cell_type": "markdown",
   "metadata": {},
   "source": [
    "# Create the model\n",
    "![](images/simple_nn.png)"
   ]
  },
  {
   "cell_type": "markdown",
   "metadata": {},
   "source": [
    "# Add the layers"
   ]
  },
  {
   "cell_type": "code",
   "execution_count": 6,
   "metadata": {},
   "outputs": [
    {
     "name": "stdout",
     "output_type": "stream",
     "text": [
      "[[0.17189339 0.16840363 0.24699196 0.0550181  0.02978856 0.15312675\n",
      "  0.08603645 0.04178015 0.02133452 0.02562653]] [9]\n"
     ]
    }
   ],
   "source": [
    "# Flatten\n",
    "model = tf.keras.models.Sequential()\n",
    "#model.add(tf.keras.layers.Flatten(input_shape=[28, 28]))\n",
    "\n",
    "# Add the layers\n",
    "model.add(tf.keras.layers.Dense(256, activation=\"relu\"))\n",
    "model.add(tf.keras.layers.Dense(128, activation=\"relu\"))\n",
    "model.add(tf.keras.layers.Dense(10, activation=\"softmax\"))\n",
    "\n",
    "model_output = model.predict(images[0:1])\n",
    "print(model_output, targets[0:1])"
   ]
  },
  {
   "cell_type": "markdown",
   "metadata": {},
   "source": [
    "## Model Summary"
   ]
  },
  {
   "cell_type": "code",
   "execution_count": 7,
   "metadata": {},
   "outputs": [
    {
     "name": "stdout",
     "output_type": "stream",
     "text": [
      "Model: \"sequential\"\n",
      "_________________________________________________________________\n",
      "Layer (type)                 Output Shape              Param #   \n",
      "=================================================================\n",
      "dense (Dense)                multiple                  200960    \n",
      "_________________________________________________________________\n",
      "dense_1 (Dense)              multiple                  32896     \n",
      "_________________________________________________________________\n",
      "dense_2 (Dense)              multiple                  1290      \n",
      "=================================================================\n",
      "Total params: 235,146\n",
      "Trainable params: 235,146\n",
      "Non-trainable params: 0\n",
      "_________________________________________________________________\n"
     ]
    }
   ],
   "source": [
    "model.summary()"
   ]
  },
  {
   "cell_type": "markdown",
   "metadata": {},
   "source": [
    "## Compile the model"
   ]
  },
  {
   "cell_type": "code",
   "execution_count": 8,
   "metadata": {},
   "outputs": [],
   "source": [
    "# Compile the model\n",
    "model.compile(\n",
    "    loss=\"sparse_categorical_crossentropy\",\n",
    "    optimizer=\"sgd\",\n",
    "    metrics=[\"accuracy\"]\n",
    ")"
   ]
  },
  {
   "cell_type": "markdown",
   "metadata": {},
   "source": [
    "## Train the model"
   ]
  },
  {
   "cell_type": "code",
   "execution_count": 9,
   "metadata": {},
   "outputs": [
    {
     "name": "stdout",
     "output_type": "stream",
     "text": [
      "Train on 6400 samples, validate on 1600 samples\n",
      "Epoch 1/50\n",
      "6400/6400 [==============================] - 1s 82us/sample - loss: 1.9853 - accuracy: 0.3347 - val_loss: 1.4542 - val_accuracy: 0.5806\n",
      "Epoch 2/50\n",
      "6400/6400 [==============================] - 0s 61us/sample - loss: 1.2325 - accuracy: 0.6383 - val_loss: 1.0998 - val_accuracy: 0.6725\n",
      "Epoch 3/50\n",
      "6400/6400 [==============================] - 0s 60us/sample - loss: 0.9929 - accuracy: 0.6900 - val_loss: 0.9466 - val_accuracy: 0.7031\n",
      "Epoch 4/50\n",
      "6400/6400 [==============================] - 0s 60us/sample - loss: 0.8702 - accuracy: 0.7194 - val_loss: 0.8584 - val_accuracy: 0.7250\n",
      "Epoch 5/50\n",
      "6400/6400 [==============================] - 0s 61us/sample - loss: 0.7931 - accuracy: 0.7391 - val_loss: 0.7970 - val_accuracy: 0.7437\n",
      "Epoch 6/50\n",
      "6400/6400 [==============================] - 0s 61us/sample - loss: 0.7383 - accuracy: 0.7558 - val_loss: 0.7522 - val_accuracy: 0.7494\n",
      "Epoch 7/50\n",
      "6400/6400 [==============================] - 0s 61us/sample - loss: 0.6964 - accuracy: 0.7666 - val_loss: 0.7181 - val_accuracy: 0.7600\n",
      "Epoch 8/50\n",
      "6400/6400 [==============================] - 0s 62us/sample - loss: 0.6625 - accuracy: 0.7775 - val_loss: 0.6899 - val_accuracy: 0.7650\n",
      "Epoch 9/50\n",
      "6400/6400 [==============================] - 0s 63us/sample - loss: 0.6347 - accuracy: 0.7869 - val_loss: 0.6668 - val_accuracy: 0.7713\n",
      "Epoch 10/50\n",
      "6400/6400 [==============================] - 0s 63us/sample - loss: 0.6109 - accuracy: 0.7937 - val_loss: 0.6478 - val_accuracy: 0.7775\n",
      "Epoch 11/50\n",
      "6400/6400 [==============================] - 0s 62us/sample - loss: 0.5903 - accuracy: 0.7992 - val_loss: 0.6313 - val_accuracy: 0.7788\n",
      "Epoch 12/50\n",
      "6400/6400 [==============================] - 0s 62us/sample - loss: 0.5720 - accuracy: 0.8050 - val_loss: 0.6179 - val_accuracy: 0.7738\n",
      "Epoch 13/50\n",
      "6400/6400 [==============================] - 0s 61us/sample - loss: 0.5559 - accuracy: 0.8098 - val_loss: 0.6035 - val_accuracy: 0.7850\n",
      "Epoch 14/50\n",
      "6400/6400 [==============================] - 0s 61us/sample - loss: 0.5412 - accuracy: 0.8119 - val_loss: 0.5933 - val_accuracy: 0.7881\n",
      "Epoch 15/50\n",
      "6400/6400 [==============================] - 0s 63us/sample - loss: 0.5279 - accuracy: 0.8178 - val_loss: 0.5829 - val_accuracy: 0.7919\n",
      "Epoch 16/50\n",
      "6400/6400 [==============================] - 0s 61us/sample - loss: 0.5154 - accuracy: 0.8225 - val_loss: 0.5745 - val_accuracy: 0.7931\n",
      "Epoch 17/50\n",
      "6400/6400 [==============================] - 0s 62us/sample - loss: 0.5039 - accuracy: 0.8250 - val_loss: 0.5640 - val_accuracy: 0.7944\n",
      "Epoch 18/50\n",
      "6400/6400 [==============================] - 0s 62us/sample - loss: 0.4937 - accuracy: 0.8313 - val_loss: 0.5574 - val_accuracy: 0.8000\n",
      "Epoch 19/50\n",
      "6400/6400 [==============================] - 0s 61us/sample - loss: 0.4839 - accuracy: 0.8342 - val_loss: 0.5493 - val_accuracy: 0.8019\n",
      "Epoch 20/50\n",
      "6400/6400 [==============================] - 0s 62us/sample - loss: 0.4750 - accuracy: 0.8378 - val_loss: 0.5427 - val_accuracy: 0.8000\n",
      "Epoch 21/50\n",
      "6400/6400 [==============================] - 0s 62us/sample - loss: 0.4664 - accuracy: 0.8423 - val_loss: 0.5358 - val_accuracy: 0.8037\n",
      "Epoch 22/50\n",
      "6400/6400 [==============================] - 0s 62us/sample - loss: 0.4583 - accuracy: 0.8436 - val_loss: 0.5315 - val_accuracy: 0.8050\n",
      "Epoch 23/50\n",
      "6400/6400 [==============================] - 0s 62us/sample - loss: 0.4508 - accuracy: 0.8442 - val_loss: 0.5253 - val_accuracy: 0.8044\n",
      "Epoch 24/50\n",
      "6400/6400 [==============================] - 0s 61us/sample - loss: 0.4435 - accuracy: 0.8483 - val_loss: 0.5226 - val_accuracy: 0.8044\n",
      "Epoch 25/50\n",
      "6400/6400 [==============================] - 0s 62us/sample - loss: 0.4370 - accuracy: 0.8508 - val_loss: 0.5156 - val_accuracy: 0.8087\n",
      "Epoch 26/50\n",
      "6400/6400 [==============================] - 0s 62us/sample - loss: 0.4308 - accuracy: 0.8553 - val_loss: 0.5112 - val_accuracy: 0.8119\n",
      "Epoch 27/50\n",
      "6400/6400 [==============================] - 0s 62us/sample - loss: 0.4247 - accuracy: 0.8578 - val_loss: 0.5084 - val_accuracy: 0.8150\n",
      "Epoch 28/50\n",
      "6400/6400 [==============================] - 0s 62us/sample - loss: 0.4189 - accuracy: 0.8575 - val_loss: 0.5050 - val_accuracy: 0.8194\n",
      "Epoch 29/50\n",
      "6400/6400 [==============================] - 0s 63us/sample - loss: 0.4133 - accuracy: 0.8603 - val_loss: 0.5024 - val_accuracy: 0.8181\n",
      "Epoch 30/50\n",
      "6400/6400 [==============================] - 0s 63us/sample - loss: 0.4082 - accuracy: 0.8611 - val_loss: 0.4988 - val_accuracy: 0.8156\n",
      "Epoch 31/50\n",
      "6400/6400 [==============================] - 0s 63us/sample - loss: 0.4031 - accuracy: 0.8622 - val_loss: 0.4951 - val_accuracy: 0.8206\n",
      "Epoch 32/50\n",
      "6400/6400 [==============================] - 0s 62us/sample - loss: 0.3983 - accuracy: 0.8652 - val_loss: 0.4924 - val_accuracy: 0.8219\n",
      "Epoch 33/50\n",
      "6400/6400 [==============================] - 0s 62us/sample - loss: 0.3932 - accuracy: 0.8653 - val_loss: 0.4897 - val_accuracy: 0.8194\n",
      "Epoch 34/50\n",
      "6400/6400 [==============================] - 0s 62us/sample - loss: 0.3891 - accuracy: 0.8680 - val_loss: 0.4860 - val_accuracy: 0.8225\n",
      "Epoch 35/50\n",
      "6400/6400 [==============================] - 0s 62us/sample - loss: 0.3846 - accuracy: 0.8683 - val_loss: 0.4834 - val_accuracy: 0.8231\n",
      "Epoch 36/50\n",
      "6400/6400 [==============================] - 0s 62us/sample - loss: 0.3802 - accuracy: 0.8716 - val_loss: 0.4834 - val_accuracy: 0.8219\n",
      "Epoch 37/50\n",
      "6400/6400 [==============================] - 0s 63us/sample - loss: 0.3763 - accuracy: 0.8706 - val_loss: 0.4795 - val_accuracy: 0.8225\n",
      "Epoch 38/50\n",
      "6400/6400 [==============================] - 0s 64us/sample - loss: 0.3722 - accuracy: 0.8747 - val_loss: 0.4791 - val_accuracy: 0.8225\n",
      "Epoch 39/50\n",
      "6400/6400 [==============================] - 0s 62us/sample - loss: 0.3687 - accuracy: 0.8741 - val_loss: 0.4765 - val_accuracy: 0.8219\n",
      "Epoch 40/50\n",
      "6400/6400 [==============================] - 0s 61us/sample - loss: 0.3650 - accuracy: 0.8752 - val_loss: 0.4740 - val_accuracy: 0.8250\n",
      "Epoch 41/50\n",
      "6400/6400 [==============================] - 0s 63us/sample - loss: 0.3614 - accuracy: 0.8780 - val_loss: 0.4721 - val_accuracy: 0.8244\n",
      "Epoch 42/50\n",
      "6400/6400 [==============================] - 0s 63us/sample - loss: 0.3579 - accuracy: 0.8778 - val_loss: 0.4703 - val_accuracy: 0.8250\n",
      "Epoch 43/50\n",
      "6400/6400 [==============================] - 0s 64us/sample - loss: 0.3545 - accuracy: 0.8783 - val_loss: 0.4680 - val_accuracy: 0.8244\n",
      "Epoch 44/50\n",
      "6400/6400 [==============================] - 0s 63us/sample - loss: 0.3511 - accuracy: 0.8803 - val_loss: 0.4674 - val_accuracy: 0.8250\n",
      "Epoch 45/50\n",
      "6400/6400 [==============================] - 0s 63us/sample - loss: 0.3481 - accuracy: 0.8825 - val_loss: 0.4654 - val_accuracy: 0.8250\n",
      "Epoch 46/50\n",
      "6400/6400 [==============================] - 0s 63us/sample - loss: 0.3447 - accuracy: 0.8844 - val_loss: 0.4649 - val_accuracy: 0.8256\n",
      "Epoch 47/50\n",
      "6400/6400 [==============================] - 0s 63us/sample - loss: 0.3417 - accuracy: 0.8839 - val_loss: 0.4629 - val_accuracy: 0.8263\n",
      "Epoch 48/50\n",
      "6400/6400 [==============================] - 0s 63us/sample - loss: 0.3386 - accuracy: 0.8877 - val_loss: 0.4606 - val_accuracy: 0.8256\n",
      "Epoch 49/50\n",
      "6400/6400 [==============================] - 0s 62us/sample - loss: 0.3357 - accuracy: 0.8864 - val_loss: 0.4612 - val_accuracy: 0.8250\n",
      "Epoch 50/50\n",
      "6400/6400 [==============================] - 0s 62us/sample - loss: 0.3328 - accuracy: 0.8894 - val_loss: 0.4587 - val_accuracy: 0.8281\n"
     ]
    }
   ],
   "source": [
    "history = model.fit(images_train, targets_train, epochs=50, validation_split=0.2)"
   ]
  },
  {
   "cell_type": "code",
   "execution_count": 10,
   "metadata": {},
   "outputs": [
    {
     "data": {
      "image/png": "[encoded data removed]",
      "text/plain": [
       "<Figure size 432x288 with 1 Axes>"
      ]
     },
     "metadata": {
      "needs_background": "light"
     },
     "output_type": "display_data"
    },
    {
     "data": {
      "image/png": "[encoded data removed]",
      "text/plain": [
       "<Figure size 432x288 with 1 Axes>"
      ]
     },
     "metadata": {
      "needs_background": "light"
     },
     "output_type": "display_data"
    }
   ],
   "source": [
    "loss_curve = history.history[\"loss\"]\n",
    "acc_curve = history.history[\"accuracy\"]\n",
    "\n",
    "loss_val_curve = history.history[\"val_loss\"]\n",
    "acc_val_curve = history.history[\"val_accuracy\"]\n",
    "\n",
    "plt.plot(loss_curve, label=\"Train\")\n",
    "plt.plot(loss_val_curve, label=\"Val\")\n",
    "plt.legend(loc='upper left')\n",
    "plt.title(\"Loss\")\n",
    "plt.show()\n",
    "\n",
    "plt.plot(acc_curve, label=\"Train\")\n",
    "plt.plot(acc_val_curve, label=\"Val\")\n",
    "plt.legend(loc='upper left')\n",
    "plt.title(\"Accuracy\")\n",
    "plt.show()"
   ]
  },
  {
   "cell_type": "code",
   "execution_count": 11,
   "metadata": {},
   "outputs": [
    {
     "name": "stdout",
     "output_type": "stream",
     "text": [
      "2000/2000 [==============================] - 0s 34us/sample - loss: 0.4671 - accuracy: 0.8410\n",
      "Test loss 0.46713240933418276\n",
      "Train accuracy 0.841\n"
     ]
    }
   ],
   "source": [
    "loss, acc = model.evaluate(images_test, targets_test)\n",
    "print(\"Test loss\", loss)\n",
    "print(\"Train accuracy\", acc)"
   ]
  }
 ],
 "metadata": {
  "kernelspec": {
   "display_name": "Python 3",
   "language": "python",
   "name": "python3"
  },
  "language_info": {
   "codemirror_mode": {
    "name": "ipython",
    "version": 3
   },
   "file_extension": ".py",
   "mimetype": "text/x-python",
   "name": "python",
   "nbconvert_exporter": "python",
   "pygments_lexer": "ipython3",
   "version": "3.6.7"
  }
 },
 "nbformat": 4,
 "nbformat_minor": 2
}
