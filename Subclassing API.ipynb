{
 "cells": [
  {
   "cell_type": "markdown",
   "metadata": {},
   "source": [
    "# Subclassing API - Tensorflow 2.0"
   ]
  },
  {
   "cell_type": "code",
   "execution_count": 1,
   "metadata": {},
   "outputs": [],
   "source": [
    "import tensorflow as tf\n",
    "import numpy as np"
   ]
  },
  {
   "cell_type": "markdown",
   "metadata": {},
   "source": [
    "## Be sure to used Tensorflow 2.0"
   ]
  },
  {
   "cell_type": "code",
   "execution_count": 2,
   "metadata": {},
   "outputs": [],
   "source": [
    "assert hasattr(tf, \"function\") # Be sure to use tensorflow 2.0"
   ]
  },
  {
   "cell_type": "markdown",
   "metadata": {},
   "source": [
    "### Import the dataset"
   ]
  },
  {
   "cell_type": "code",
   "execution_count": 3,
   "metadata": {},
   "outputs": [],
   "source": [
    "from sklearn.preprocessing import StandardScaler\n",
    "# Fashio MNIST\n",
    "fashion_mnist = tf.keras.datasets.fashion_mnist\n",
    "(images, targets), (_, _) = fashion_mnist.load_data()\n",
    "# Get only a subpart of the dataset\n",
    "images = images[:10000]\n",
    "targets = targets [:10000]\n",
    "# Reshape the dataset and convert to float\n",
    "images = images.reshape(-1, 784)\n",
    "images = images.astype(float)\n",
    "# Normalize images\n",
    "scaler = StandardScaler()\n",
    "images = scaler.fit_transform(images)"
   ]
  },
  {
   "cell_type": "markdown",
   "metadata": {},
   "source": [
    "## Create a model using the SubClassing API\n",
    "The following call is not working because self.output is already set by the parent: tf.keras.Model"
   ]
  },
  {
   "cell_type": "code",
   "execution_count": 4,
   "metadata": {},
   "outputs": [
    {
     "output_type": "stream",
     "name": "stdout",
     "text": [
      "e= Can't set the attribute \"output\", likely because it conflicts with an existing read-only @property of the object. Please choose a different name.\n"
     ]
    }
   ],
   "source": [
    "class CustomModel(tf.keras.Model):\n",
    "    \n",
    "    def __init__(self):\n",
    "        super(CustomModel, self).__init__()\n",
    "\n",
    "        # First in the init method you need to instanciate the layers you will use\n",
    "        self.first_layer = tf.keras.layers.Dense(64)\n",
    "        # WARNING: DO NOT CALL ONE OF YOUR CLASS VARIABLE: output\n",
    "        self.output = tf.keras.layers.Dense(10, activation='softmax', name=\"d1\")\n",
    "\n",
    "    def call(self, x):\n",
    "        # Then in the call method you can execute your operations\n",
    "        layer1_out = self.first_layer(x)\n",
    "        output = self.output_layer(layer1_out)\n",
    "        return output\n",
    "\n",
    "try:\n",
    "    model = CustomModel()\n",
    "except Exception as e:\n",
    "    print(\"e=\", e)"
   ]
  },
  {
   "cell_type": "code",
   "execution_count": 6,
   "metadata": {},
   "outputs": [
    {
     "output_type": "execute_result",
     "data": {
      "text/plain": [
       "array([[0.00580786, 0.05870314, 0.65907234, 0.01117061, 0.06425457,\n",
       "        0.02247835, 0.09529579, 0.03126691, 0.01721727, 0.03473315]],\n",
       "      dtype=float32)"
      ]
     },
     "metadata": {},
     "execution_count": 6
    }
   ],
   "source": [
    "class CustomModel(tf.keras.Model):\n",
    "    \n",
    "    def __init__(self):\n",
    "        super(CustomModel, self).__init__()        \n",
    "        # First in the init method you need to instanciate the layers you will use\n",
    "        self.first_layer = tf.keras.layers.Dense(64, activation=\"relu\", name=\"first_layer\")\n",
    "        self.output_layer = tf.keras.layers.Dense(10, activation='softmax', name=\"output_layer\")\n",
    "\n",
    "    def call(self, x):\n",
    "        # Then in the call method you can execute your operations\n",
    "        prev = self.first_layer(x)\n",
    "        out = self.output_layer(prev)\n",
    "        return out\n",
    "\n",
    "model = CustomModel()\n",
    "model.predict(images[0:1])"
   ]
  },
  {
   "cell_type": "markdown",
   "metadata": {},
   "source": [
    "The cell above is now working: We can call model.predict as we would do with a basic keras model. <br> \n",
    "The <b>predict</b> method of the parent class called the <b>call</b> method from the <b>CustomModel</b> class"
   ]
  },
  {
   "cell_type": "code",
   "execution_count": 7,
   "metadata": {},
   "outputs": [
    {
     "output_type": "execute_result",
     "data": {
      "text/plain": [
       "array([[0.00580786, 0.05870314, 0.65907234, 0.01117061, 0.06425457,\n",
       "        0.02247835, 0.09529579, 0.03126691, 0.01721727, 0.03473315]],\n",
       "      dtype=float32)"
      ]
     },
     "metadata": {},
     "execution_count": 7
    }
   ],
   "source": [
    "model.predict(images[0:1])"
   ]
  },
  {
   "cell_type": "markdown",
   "metadata": {},
   "source": [
    "### Train the model\n",
    "\n",
    "The model can be used as a normal keras model. Thus, to train it you just need to compile and to fit the model."
   ]
  },
  {
   "cell_type": "code",
   "execution_count": 8,
   "metadata": {},
   "outputs": [],
   "source": [
    "# Compile the model\n",
    "model.compile(\n",
    "    loss=\"sparse_categorical_crossentropy\",\n",
    "    optimizer=\"sgd\",\n",
    "    metrics=[\"accuracy\"]\n",
    ")"
   ]
  },
  {
   "cell_type": "code",
   "execution_count": 9,
   "metadata": {},
   "outputs": [
    {
     "output_type": "stream",
     "name": "stdout",
     "text": [
      "Epoch 1/10\n",
      "313/313 [==============================] - 1s 2ms/step - loss: 1.1459 - accuracy: 0.6235\n",
      "Epoch 2/10\n",
      "313/313 [==============================] - 1s 2ms/step - loss: 0.5517 - accuracy: 0.8061\n",
      "Epoch 3/10\n",
      "313/313 [==============================] - 1s 2ms/step - loss: 0.4574 - accuracy: 0.8380\n",
      "Epoch 4/10\n",
      "313/313 [==============================] - 1s 2ms/step - loss: 0.4268 - accuracy: 0.8461\n",
      "Epoch 5/10\n",
      "313/313 [==============================] - 1s 2ms/step - loss: 0.3861 - accuracy: 0.8605\n",
      "Epoch 6/10\n",
      "313/313 [==============================] - 1s 2ms/step - loss: 0.3687 - accuracy: 0.8757\n",
      "Epoch 7/10\n",
      "313/313 [==============================] - 1s 2ms/step - loss: 0.3478 - accuracy: 0.8762\n",
      "Epoch 8/10\n",
      "313/313 [==============================] - 1s 2ms/step - loss: 0.3410 - accuracy: 0.8790\n",
      "Epoch 9/10\n",
      "313/313 [==============================] - 1s 2ms/step - loss: 0.3183 - accuracy: 0.8903\n",
      "Epoch 10/10\n",
      "313/313 [==============================] - 1s 2ms/step - loss: 0.3206 - accuracy: 0.8884\n"
     ]
    }
   ],
   "source": [
    "history = model.fit(images, targets, epochs=10)"
   ]
  },
  {
   "cell_type": "code",
   "execution_count": null,
   "metadata": {},
   "outputs": [],
   "source": []
  }
 ],
 "metadata": {
  "kernelspec": {
   "display_name": "Python 3",
   "language": "python",
   "name": "python3"
  },
  "language_info": {
   "codemirror_mode": {
    "name": "ipython",
    "version": 3
   },
   "file_extension": ".py",
   "mimetype": "text/x-python",
   "name": "python",
   "nbconvert_exporter": "python",
   "pygments_lexer": "ipython3",
   "version": "3.8.5"
  }
 },
 "nbformat": 4,
 "nbformat_minor": 2
}